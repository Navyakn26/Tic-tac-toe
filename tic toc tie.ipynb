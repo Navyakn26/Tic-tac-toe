{
 "cells": [
  {
   "cell_type": "code",
   "execution_count": 1,
   "metadata": {},
   "outputs": [],
   "source": [
    "import random"
   ]
  },
  {
   "cell_type": "code",
   "execution_count": 2,
   "metadata": {},
   "outputs": [],
   "source": [
    "def create_board():\n",
    "    board=[1,2,3,4,5,6,7,8,9]\n",
    "    return board"
   ]
  },
  {
   "cell_type": "code",
   "execution_count": 3,
   "metadata": {},
   "outputs": [],
   "source": [
    "def print_board(board):\n",
    "    print(board[0], \"|\", board[1],\"|\",board[2])\n",
    "    print(\"---------\")\n",
    "    print(board[3], \"|\", board[4],\"|\",board[5])\n",
    "    print(\"---------\")\n",
    "    print(board[6], \"|\", board[7],\"|\",board[8])\n",
    "    "
   ]
  },
  {
   "cell_type": "code",
   "execution_count": 4,
   "metadata": {},
   "outputs": [],
   "source": [
    "def player_play():\n",
    "    mark = input(\"player 1 select  X or O :  \").upper()\n",
    "    if mark==\"X\":\n",
    "        return (\"X\",\"O\")\n",
    "    elif mark==\"O\":\n",
    "         return(\"O\",\"X\")\n",
    "    else:\n",
    "        print(\"player1 has been assigned as X and 2 as O\")\n",
    "        return(\"X\",\"O\")"
   ]
  },
  {
   "cell_type": "code",
   "execution_count": 5,
   "metadata": {},
   "outputs": [],
   "source": [
    "def tie_func(board):\n",
    "    for element in board:\n",
    "        if element in range(1,10):\n",
    "            return False\n",
    "    return True"
   ]
  },
  {
   "cell_type": "code",
   "execution_count": 6,
   "metadata": {},
   "outputs": [],
   "source": [
    "def check_board(board,position):\n",
    "    if board[position-1] in range(0,10):\n",
    "        return True\n",
    "    else:\n",
    "        return False"
   ]
  },
  {
   "cell_type": "code",
   "execution_count": 7,
   "metadata": {},
   "outputs": [],
   "source": [
    "def insert(board,player,position):\n",
    "    board[position-1]=player\n",
    "    return board"
   ]
  },
  {
   "cell_type": "code",
   "execution_count": 8,
   "metadata": {},
   "outputs": [],
   "source": [
    "def is_win(board,player):\n",
    "    return ((board[6] == player and board[7] == player and board[8] == player) or # across the top\n",
    "    (board[3] == player and board[4] == player and board[5] == player) or # across the middle\n",
    "    (board[0] == player and board[1] == player and board[2] == player) or # across the bottom\n",
    "    (board[6] == player and board[3] == player and board[0] == player) or # down the middle\n",
    "    (board[7] == player and board[4] == player and board[1] == player) or # down the middle\n",
    "    (board[8] == player and board[5] == player and board[2] == player) or # down the right side\n",
    "    (board[6] == player and board[4] == player and board[2] == player) or # diagonal\n",
    "    (board[8] == player and board[4] == player and board[0] == player)) # diagonal\n",
    "    "
   ]
  },
  {
   "cell_type": "code",
   "execution_count": 9,
   "metadata": {},
   "outputs": [],
   "source": [
    "def game_play(board):\n",
    "    player1,player2 = player_play()\n",
    "    team =random.randint(1,2)\n",
    "    print(\"player\",team,\"plays first\")\n",
    "    while (tie_func(board)==False):\n",
    "        print_board(board)\n",
    "        move=int(input(\"player\"+ str(team) +\" enter a position: \"))\n",
    "        while (move not in range(1,10)):\n",
    "            print_board(board)\n",
    "            move=int(input(\"player\"+ str(team) +\" enter a valid number from the above board :  \"))\n",
    "        while (check_board(board,move)==False):\n",
    "            print_board(board)\n",
    "            move=int(input(\"player\"+str(team)+\" enter a valid position: \"))\n",
    "            while (move not in range(1,10)):\n",
    "                print_board(board)\n",
    "                move=int(input(\"player\"+ str(team) +\" enter a valid number from the above board :  \"))\n",
    "        if (team==1):\n",
    "            player=player1\n",
    "        else:\n",
    "            player=player2\n",
    "        board=insert(board,player,move)\n",
    "        if (is_win(board,player)):\n",
    "            return team\n",
    "        if  (team==1):\n",
    "            team=2\n",
    "        else:  \n",
    "            team=1\n",
    "    return 0\n",
    " "
   ]
  },
  {
   "cell_type": "code",
   "execution_count": 10,
   "metadata": {},
   "outputs": [],
   "source": [
    "def game():\n",
    "    playagain=\"Y\"\n",
    "    while(playagain==\"Y\"):\n",
    "        board = create_board()\n",
    "        winning_team = game_play(board)\n",
    "        if (winning_team == 0):\n",
    "            print(\"its a tie\")\n",
    "        else:\n",
    "            print(\"Player \", winning_team ,\"wins\")\n",
    "        playagain = input(\"press Y to play again or any other key to Quit : \").upper()\n"
   ]
  },
  {
   "cell_type": "code",
   "execution_count": null,
   "metadata": {},
   "outputs": [
    {
     "name": "stdout",
     "output_type": "stream",
     "text": [
      "player 1 select  X or O :  x\n",
      "player 2 plays first\n",
      "1 | 2 | 3\n",
      "---------\n",
      "4 | 5 | 6\n",
      "---------\n",
      "7 | 8 | 9\n"
     ]
    }
   ],
   "source": [
    "game()"
   ]
  },
  {
   "cell_type": "code",
   "execution_count": null,
   "metadata": {},
   "outputs": [],
   "source": []
  }
 ],
 "metadata": {
  "kernelspec": {
   "display_name": "Python 3",
   "language": "python",
   "name": "python3"
  },
  "language_info": {
   "codemirror_mode": {
    "name": "ipython",
    "version": 3
   },
   "file_extension": ".py",
   "mimetype": "text/x-python",
   "name": "python",
   "nbconvert_exporter": "python",
   "pygments_lexer": "ipython3",
   "version": "3.8.5"
  }
 },
 "nbformat": 4,
 "nbformat_minor": 4
}
